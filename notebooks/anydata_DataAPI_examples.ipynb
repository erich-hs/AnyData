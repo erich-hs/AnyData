{
 "cells": [
  {
   "cell_type": "code",
   "execution_count": 1,
   "metadata": {},
   "outputs": [],
   "source": [
    "from anydata import DataAPI\n",
    "from dotenv import load_dotenv\n",
    "\n",
    "%load_ext autoreload\n",
    "%autoreload 2"
   ]
  },
  {
   "cell_type": "code",
   "execution_count": 2,
   "metadata": {},
   "outputs": [
    {
     "data": {
      "text/plain": [
       "True"
      ]
     },
     "execution_count": 2,
     "metadata": {},
     "output_type": "execute_result"
    }
   ],
   "source": [
    "load_dotenv()"
   ]
  },
  {
   "cell_type": "markdown",
   "metadata": {},
   "source": [
    "## DataAPI Examples"
   ]
  },
  {
   "cell_type": "markdown",
   "metadata": {},
   "source": [
    "### Instantiating from Base URL"
   ]
  },
  {
   "cell_type": "code",
   "execution_count": 3,
   "metadata": {},
   "outputs": [],
   "source": [
    "# Define base DataAPI object\n",
    "valet_api = DataAPI(base_url=\"https://www.bankofcanada.ca/valet\")"
   ]
  },
  {
   "cell_type": "code",
   "execution_count": 4,
   "metadata": {},
   "outputs": [],
   "source": [
    "# Add endpoints\n",
    "valet_api.add_endpoint(\"/observations/{seriesNames}/{format}\", method=\"GET\")\n",
    "valet_api.add_endpoint(\"/lists/{type}/{format}\", method=\"GET\")"
   ]
  },
  {
   "cell_type": "code",
   "execution_count": 5,
   "metadata": {},
   "outputs": [
    {
     "data": {
      "text/plain": [
       "[('/lists/{type}/{format}',\n",
       "  Endpoint(method=\"GET\", endpoint=\"/lists/{type}/{format}\", path_params={'type': None, 'format': None})),\n",
       " ('/observations/{seriesNames}/{format}',\n",
       "  Endpoint(method=\"GET\", endpoint=\"/observations/{seriesNames}/{format}\", path_params={'seriesNames': None, 'format': None}))]"
      ]
     },
     "execution_count": 5,
     "metadata": {},
     "output_type": "execute_result"
    }
   ],
   "source": [
    "# List endpoints\n",
    "valet_api.endpoints()"
   ]
  },
  {
   "cell_type": "code",
   "execution_count": 6,
   "metadata": {},
   "outputs": [
    {
     "data": {
      "text/html": [
       "<div>\n",
       "<style scoped>\n",
       "    .dataframe tbody tr th:only-of-type {\n",
       "        vertical-align: middle;\n",
       "    }\n",
       "\n",
       "    .dataframe tbody tr th {\n",
       "        vertical-align: top;\n",
       "    }\n",
       "\n",
       "    .dataframe thead th {\n",
       "        text-align: right;\n",
       "    }\n",
       "</style>\n",
       "<table border=\"1\" class=\"dataframe\">\n",
       "  <thead>\n",
       "    <tr style=\"text-align: right;\">\n",
       "      <th></th>\n",
       "      <th>d</th>\n",
       "      <th>FXUSDCAD</th>\n",
       "    </tr>\n",
       "  </thead>\n",
       "  <tbody>\n",
       "    <tr>\n",
       "      <th>0</th>\n",
       "      <td>2017-01-03</td>\n",
       "      <td>{'v': '1.3435'}</td>\n",
       "    </tr>\n",
       "    <tr>\n",
       "      <th>1</th>\n",
       "      <td>2017-01-04</td>\n",
       "      <td>{'v': '1.3315'}</td>\n",
       "    </tr>\n",
       "    <tr>\n",
       "      <th>2</th>\n",
       "      <td>2017-01-05</td>\n",
       "      <td>{'v': '1.3244'}</td>\n",
       "    </tr>\n",
       "    <tr>\n",
       "      <th>3</th>\n",
       "      <td>2017-01-06</td>\n",
       "      <td>{'v': '1.3214'}</td>\n",
       "    </tr>\n",
       "    <tr>\n",
       "      <th>4</th>\n",
       "      <td>2017-01-09</td>\n",
       "      <td>{'v': '1.3240'}</td>\n",
       "    </tr>\n",
       "    <tr>\n",
       "      <th>...</th>\n",
       "      <td>...</td>\n",
       "      <td>...</td>\n",
       "    </tr>\n",
       "    <tr>\n",
       "      <th>1807</th>\n",
       "      <td>2024-04-01</td>\n",
       "      <td>{'v': '1.3574'}</td>\n",
       "    </tr>\n",
       "    <tr>\n",
       "      <th>1808</th>\n",
       "      <td>2024-04-02</td>\n",
       "      <td>{'v': '1.3572'}</td>\n",
       "    </tr>\n",
       "    <tr>\n",
       "      <th>1809</th>\n",
       "      <td>2024-04-03</td>\n",
       "      <td>{'v': '1.3537'}</td>\n",
       "    </tr>\n",
       "    <tr>\n",
       "      <th>1810</th>\n",
       "      <td>2024-04-04</td>\n",
       "      <td>{'v': '1.3504'}</td>\n",
       "    </tr>\n",
       "    <tr>\n",
       "      <th>1811</th>\n",
       "      <td>2024-04-05</td>\n",
       "      <td>{'v': '1.3598'}</td>\n",
       "    </tr>\n",
       "  </tbody>\n",
       "</table>\n",
       "<p>1812 rows × 2 columns</p>\n",
       "</div>"
      ],
      "text/plain": [
       "               d         FXUSDCAD\n",
       "0     2017-01-03  {'v': '1.3435'}\n",
       "1     2017-01-04  {'v': '1.3315'}\n",
       "2     2017-01-05  {'v': '1.3244'}\n",
       "3     2017-01-06  {'v': '1.3214'}\n",
       "4     2017-01-09  {'v': '1.3240'}\n",
       "...          ...              ...\n",
       "1807  2024-04-01  {'v': '1.3574'}\n",
       "1808  2024-04-02  {'v': '1.3572'}\n",
       "1809  2024-04-03  {'v': '1.3537'}\n",
       "1810  2024-04-04  {'v': '1.3504'}\n",
       "1811  2024-04-05  {'v': '1.3598'}\n",
       "\n",
       "[1812 rows x 2 columns]"
      ]
     },
     "execution_count": 6,
     "metadata": {},
     "output_type": "execute_result"
    }
   ],
   "source": [
    "# Fetch to pandas DataFrame\n",
    "valet_api[\"/observations/{seriesNames}/{format}\"].to_pandas(params={\"seriesNames\": \"FXUSDCAD\", \"format\": \"json\"})"
   ]
  },
  {
   "cell_type": "markdown",
   "metadata": {},
   "source": [
    "### Instantiating from OpenAPI Specification"
   ]
  },
  {
   "cell_type": "code",
   "execution_count": 7,
   "metadata": {},
   "outputs": [],
   "source": [
    "# DataAPI from OpenAPI spec\n",
    "valet_api = DataAPI.from_openapi('https://www.bankofcanada.ca/valet/static/swagger/api-en.yml')"
   ]
  },
  {
   "cell_type": "code",
   "execution_count": 8,
   "metadata": {},
   "outputs": [
    {
     "data": {
      "text/plain": [
       "[('/fx_rss', Endpoint(method=\"get\", endpoint=\"/fx_rss\")),\n",
       " ('/fx_rss/{seriesNames}',\n",
       "  Endpoint(method=\"get\", endpoint=\"/fx_rss/{seriesNames}\", path_params={'seriesNames': None})),\n",
       " ('/groups/{groupName}/{format}',\n",
       "  Endpoint(method=\"get\", endpoint=\"/groups/{groupName}/{format}\", path_params={'groupName': None, 'format': None})),\n",
       " ('/lists/{type}/{format}',\n",
       "  Endpoint(method=\"get\", endpoint=\"/lists/{type}/{format}\", path_params={'type': None, 'format': None})),\n",
       " ('/observations/group/{groupName}/{format}',\n",
       "  Endpoint(method=\"get\", endpoint=\"/observations/group/{groupName}/{format}\", path_params={'groupName': None, 'format': None})),\n",
       " ('/observations/{seriesNames}/{format}',\n",
       "  Endpoint(method=\"get\", endpoint=\"/observations/{seriesNames}/{format}\", path_params={'seriesNames': None, 'format': None})),\n",
       " ('/series/{seriesName}/{format}',\n",
       "  Endpoint(method=\"get\", endpoint=\"/series/{seriesName}/{format}\", path_params={'seriesName': None, 'format': None}))]"
      ]
     },
     "execution_count": 8,
     "metadata": {},
     "output_type": "execute_result"
    }
   ],
   "source": [
    "valet_api.endpoints()"
   ]
  },
  {
   "cell_type": "code",
   "execution_count": 9,
   "metadata": {},
   "outputs": [
    {
     "data": {
      "text/html": [
       "<div>\n",
       "<style scoped>\n",
       "    .dataframe tbody tr th:only-of-type {\n",
       "        vertical-align: middle;\n",
       "    }\n",
       "\n",
       "    .dataframe tbody tr th {\n",
       "        vertical-align: top;\n",
       "    }\n",
       "\n",
       "    .dataframe thead th {\n",
       "        text-align: right;\n",
       "    }\n",
       "</style>\n",
       "<table border=\"1\" class=\"dataframe\">\n",
       "  <thead>\n",
       "    <tr style=\"text-align: right;\">\n",
       "      <th></th>\n",
       "      <th>d</th>\n",
       "      <th>FXUSDCAD</th>\n",
       "    </tr>\n",
       "  </thead>\n",
       "  <tbody>\n",
       "    <tr>\n",
       "      <th>0</th>\n",
       "      <td>2017-01-03</td>\n",
       "      <td>{'v': '1.3435'}</td>\n",
       "    </tr>\n",
       "    <tr>\n",
       "      <th>1</th>\n",
       "      <td>2017-01-04</td>\n",
       "      <td>{'v': '1.3315'}</td>\n",
       "    </tr>\n",
       "    <tr>\n",
       "      <th>2</th>\n",
       "      <td>2017-01-05</td>\n",
       "      <td>{'v': '1.3244'}</td>\n",
       "    </tr>\n",
       "    <tr>\n",
       "      <th>3</th>\n",
       "      <td>2017-01-06</td>\n",
       "      <td>{'v': '1.3214'}</td>\n",
       "    </tr>\n",
       "    <tr>\n",
       "      <th>4</th>\n",
       "      <td>2017-01-09</td>\n",
       "      <td>{'v': '1.3240'}</td>\n",
       "    </tr>\n",
       "    <tr>\n",
       "      <th>...</th>\n",
       "      <td>...</td>\n",
       "      <td>...</td>\n",
       "    </tr>\n",
       "    <tr>\n",
       "      <th>1807</th>\n",
       "      <td>2024-04-01</td>\n",
       "      <td>{'v': '1.3574'}</td>\n",
       "    </tr>\n",
       "    <tr>\n",
       "      <th>1808</th>\n",
       "      <td>2024-04-02</td>\n",
       "      <td>{'v': '1.3572'}</td>\n",
       "    </tr>\n",
       "    <tr>\n",
       "      <th>1809</th>\n",
       "      <td>2024-04-03</td>\n",
       "      <td>{'v': '1.3537'}</td>\n",
       "    </tr>\n",
       "    <tr>\n",
       "      <th>1810</th>\n",
       "      <td>2024-04-04</td>\n",
       "      <td>{'v': '1.3504'}</td>\n",
       "    </tr>\n",
       "    <tr>\n",
       "      <th>1811</th>\n",
       "      <td>2024-04-05</td>\n",
       "      <td>{'v': '1.3598'}</td>\n",
       "    </tr>\n",
       "  </tbody>\n",
       "</table>\n",
       "<p>1812 rows × 2 columns</p>\n",
       "</div>"
      ],
      "text/plain": [
       "               d         FXUSDCAD\n",
       "0     2017-01-03  {'v': '1.3435'}\n",
       "1     2017-01-04  {'v': '1.3315'}\n",
       "2     2017-01-05  {'v': '1.3244'}\n",
       "3     2017-01-06  {'v': '1.3214'}\n",
       "4     2017-01-09  {'v': '1.3240'}\n",
       "...          ...              ...\n",
       "1807  2024-04-01  {'v': '1.3574'}\n",
       "1808  2024-04-02  {'v': '1.3572'}\n",
       "1809  2024-04-03  {'v': '1.3537'}\n",
       "1810  2024-04-04  {'v': '1.3504'}\n",
       "1811  2024-04-05  {'v': '1.3598'}\n",
       "\n",
       "[1812 rows x 2 columns]"
      ]
     },
     "execution_count": 9,
     "metadata": {},
     "output_type": "execute_result"
    }
   ],
   "source": [
    "# Set endpoint parameters to fetch USD to CAD forex series\n",
    "valet_api[\"/observations/{seriesNames}/{format}\"].set_params({\"seriesNames\": \"FXUSDCAD\", \"format\": \"json\"})\n",
    "\n",
    "# Fetch to pandas dataframe\n",
    "valet_api[\"/observations/{seriesNames}/{format}\"].to_pandas()"
   ]
  },
  {
   "cell_type": "code",
   "execution_count": 10,
   "metadata": {},
   "outputs": [
    {
     "data": {
      "text/html": [
       "<div>\n",
       "<style scoped>\n",
       "    .dataframe tbody tr th:only-of-type {\n",
       "        vertical-align: middle;\n",
       "    }\n",
       "\n",
       "    .dataframe tbody tr th {\n",
       "        vertical-align: top;\n",
       "    }\n",
       "\n",
       "    .dataframe thead th {\n",
       "        text-align: right;\n",
       "    }\n",
       "</style>\n",
       "<table border=\"1\" class=\"dataframe\">\n",
       "  <thead>\n",
       "    <tr style=\"text-align: right;\">\n",
       "      <th></th>\n",
       "      <th>d</th>\n",
       "      <th>FXCHFCAD</th>\n",
       "    </tr>\n",
       "  </thead>\n",
       "  <tbody>\n",
       "    <tr>\n",
       "      <th>0</th>\n",
       "      <td>2017-01-03</td>\n",
       "      <td>{'v': '1.3064'}</td>\n",
       "    </tr>\n",
       "    <tr>\n",
       "      <th>1</th>\n",
       "      <td>2017-01-04</td>\n",
       "      <td>{'v': '1.3005'}</td>\n",
       "    </tr>\n",
       "    <tr>\n",
       "      <th>2</th>\n",
       "      <td>2017-01-05</td>\n",
       "      <td>{'v': '1.3083'}</td>\n",
       "    </tr>\n",
       "    <tr>\n",
       "      <th>3</th>\n",
       "      <td>2017-01-06</td>\n",
       "      <td>{'v': '1.3020'}</td>\n",
       "    </tr>\n",
       "    <tr>\n",
       "      <th>4</th>\n",
       "      <td>2017-01-09</td>\n",
       "      <td>{'v': '1.3020'}</td>\n",
       "    </tr>\n",
       "    <tr>\n",
       "      <th>...</th>\n",
       "      <td>...</td>\n",
       "      <td>...</td>\n",
       "    </tr>\n",
       "    <tr>\n",
       "      <th>1807</th>\n",
       "      <td>2024-04-01</td>\n",
       "      <td>{'v': '1.5010'}</td>\n",
       "    </tr>\n",
       "    <tr>\n",
       "      <th>1808</th>\n",
       "      <td>2024-04-02</td>\n",
       "      <td>{'v': '1.4959'}</td>\n",
       "    </tr>\n",
       "    <tr>\n",
       "      <th>1809</th>\n",
       "      <td>2024-04-03</td>\n",
       "      <td>{'v': '1.4953'}</td>\n",
       "    </tr>\n",
       "    <tr>\n",
       "      <th>1810</th>\n",
       "      <td>2024-04-04</td>\n",
       "      <td>{'v': '1.4927'}</td>\n",
       "    </tr>\n",
       "    <tr>\n",
       "      <th>1811</th>\n",
       "      <td>2024-04-05</td>\n",
       "      <td>{'v': '1.5067'}</td>\n",
       "    </tr>\n",
       "  </tbody>\n",
       "</table>\n",
       "<p>1812 rows × 2 columns</p>\n",
       "</div>"
      ],
      "text/plain": [
       "               d         FXCHFCAD\n",
       "0     2017-01-03  {'v': '1.3064'}\n",
       "1     2017-01-04  {'v': '1.3005'}\n",
       "2     2017-01-05  {'v': '1.3083'}\n",
       "3     2017-01-06  {'v': '1.3020'}\n",
       "4     2017-01-09  {'v': '1.3020'}\n",
       "...          ...              ...\n",
       "1807  2024-04-01  {'v': '1.5010'}\n",
       "1808  2024-04-02  {'v': '1.4959'}\n",
       "1809  2024-04-03  {'v': '1.4953'}\n",
       "1810  2024-04-04  {'v': '1.4927'}\n",
       "1811  2024-04-05  {'v': '1.5067'}\n",
       "\n",
       "[1812 rows x 2 columns]"
      ]
     },
     "execution_count": 10,
     "metadata": {},
     "output_type": "execute_result"
    }
   ],
   "source": [
    "# Or pass parameters directly to the fetch method of the Endpoint\n",
    "# The new parameters to fetch the CHF to CAD series takes precedence when passed directly\n",
    "valet_api[\"/observations/{seriesNames}/{format}\"].to_pandas(params={\"seriesNames\": \"FXCHFCAD\"})"
   ]
  },
  {
   "cell_type": "code",
   "execution_count": 11,
   "metadata": {},
   "outputs": [
    {
     "data": {
      "text/plain": [
       "Endpoint(method=\"get\", endpoint=\"/observations/{seriesNames}/{format}\", path_params={'seriesNames': 'FXUSDCAD', 'format': 'json'})"
      ]
     },
     "execution_count": 11,
     "metadata": {},
     "output_type": "execute_result"
    }
   ],
   "source": [
    "# The Endpoint rettains the base parameters of the USD to CAD series\n",
    "valet_api[\"/observations/{seriesNames}/{format}\"]"
   ]
  },
  {
   "cell_type": "code",
   "execution_count": 12,
   "metadata": {},
   "outputs": [],
   "source": [
    "# Set alias endpoint with custom parameters\n",
    "valet_api.add_endpoint(\n",
    "    \"/observations/{seriesNames}/{format}\",\n",
    "    method=\"GET\",\n",
    "    params={\"seriesNames\": \"FXUSDCAD\", \"format\": \"json\"},\n",
    "    alias=\"USD_to_CAD\"\n",
    ")"
   ]
  },
  {
   "cell_type": "code",
   "execution_count": 13,
   "metadata": {},
   "outputs": [
    {
     "data": {
      "text/plain": [
       "[('/fx_rss', Endpoint(method=\"get\", endpoint=\"/fx_rss\")),\n",
       " ('/fx_rss/{seriesNames}',\n",
       "  Endpoint(method=\"get\", endpoint=\"/fx_rss/{seriesNames}\", path_params={'seriesNames': None})),\n",
       " ('/groups/{groupName}/{format}',\n",
       "  Endpoint(method=\"get\", endpoint=\"/groups/{groupName}/{format}\", path_params={'groupName': None, 'format': None})),\n",
       " ('/lists/{type}/{format}',\n",
       "  Endpoint(method=\"get\", endpoint=\"/lists/{type}/{format}\", path_params={'type': None, 'format': None})),\n",
       " ('/observations/group/{groupName}/{format}',\n",
       "  Endpoint(method=\"get\", endpoint=\"/observations/group/{groupName}/{format}\", path_params={'groupName': None, 'format': None})),\n",
       " ('/observations/{seriesNames}/{format}',\n",
       "  Endpoint(method=\"get\", endpoint=\"/observations/{seriesNames}/{format}\", path_params={'seriesNames': 'FXUSDCAD', 'format': 'json'})),\n",
       " ('/series/{seriesName}/{format}',\n",
       "  Endpoint(method=\"get\", endpoint=\"/series/{seriesName}/{format}\", path_params={'seriesName': None, 'format': None})),\n",
       " ('USD_to_CAD',\n",
       "  Endpoint(method=\"GET\", endpoint=\"/observations/{seriesNames}/{format}\", path_params={'seriesNames': 'FXUSDCAD', 'format': 'json'}))]"
      ]
     },
     "execution_count": 13,
     "metadata": {},
     "output_type": "execute_result"
    }
   ],
   "source": [
    "valet_api.endpoints()"
   ]
  },
  {
   "cell_type": "code",
   "execution_count": 14,
   "metadata": {},
   "outputs": [
    {
     "data": {
      "text/html": [
       "<div>\n",
       "<style scoped>\n",
       "    .dataframe tbody tr th:only-of-type {\n",
       "        vertical-align: middle;\n",
       "    }\n",
       "\n",
       "    .dataframe tbody tr th {\n",
       "        vertical-align: top;\n",
       "    }\n",
       "\n",
       "    .dataframe thead th {\n",
       "        text-align: right;\n",
       "    }\n",
       "</style>\n",
       "<table border=\"1\" class=\"dataframe\">\n",
       "  <thead>\n",
       "    <tr style=\"text-align: right;\">\n",
       "      <th></th>\n",
       "      <th>d</th>\n",
       "      <th>FXUSDCAD</th>\n",
       "    </tr>\n",
       "  </thead>\n",
       "  <tbody>\n",
       "    <tr>\n",
       "      <th>0</th>\n",
       "      <td>2017-01-03</td>\n",
       "      <td>{'v': '1.3435'}</td>\n",
       "    </tr>\n",
       "    <tr>\n",
       "      <th>1</th>\n",
       "      <td>2017-01-04</td>\n",
       "      <td>{'v': '1.3315'}</td>\n",
       "    </tr>\n",
       "    <tr>\n",
       "      <th>2</th>\n",
       "      <td>2017-01-05</td>\n",
       "      <td>{'v': '1.3244'}</td>\n",
       "    </tr>\n",
       "    <tr>\n",
       "      <th>3</th>\n",
       "      <td>2017-01-06</td>\n",
       "      <td>{'v': '1.3214'}</td>\n",
       "    </tr>\n",
       "    <tr>\n",
       "      <th>4</th>\n",
       "      <td>2017-01-09</td>\n",
       "      <td>{'v': '1.3240'}</td>\n",
       "    </tr>\n",
       "    <tr>\n",
       "      <th>...</th>\n",
       "      <td>...</td>\n",
       "      <td>...</td>\n",
       "    </tr>\n",
       "    <tr>\n",
       "      <th>1807</th>\n",
       "      <td>2024-04-01</td>\n",
       "      <td>{'v': '1.3574'}</td>\n",
       "    </tr>\n",
       "    <tr>\n",
       "      <th>1808</th>\n",
       "      <td>2024-04-02</td>\n",
       "      <td>{'v': '1.3572'}</td>\n",
       "    </tr>\n",
       "    <tr>\n",
       "      <th>1809</th>\n",
       "      <td>2024-04-03</td>\n",
       "      <td>{'v': '1.3537'}</td>\n",
       "    </tr>\n",
       "    <tr>\n",
       "      <th>1810</th>\n",
       "      <td>2024-04-04</td>\n",
       "      <td>{'v': '1.3504'}</td>\n",
       "    </tr>\n",
       "    <tr>\n",
       "      <th>1811</th>\n",
       "      <td>2024-04-05</td>\n",
       "      <td>{'v': '1.3598'}</td>\n",
       "    </tr>\n",
       "  </tbody>\n",
       "</table>\n",
       "<p>1812 rows × 2 columns</p>\n",
       "</div>"
      ],
      "text/plain": [
       "               d         FXUSDCAD\n",
       "0     2017-01-03  {'v': '1.3435'}\n",
       "1     2017-01-04  {'v': '1.3315'}\n",
       "2     2017-01-05  {'v': '1.3244'}\n",
       "3     2017-01-06  {'v': '1.3214'}\n",
       "4     2017-01-09  {'v': '1.3240'}\n",
       "...          ...              ...\n",
       "1807  2024-04-01  {'v': '1.3574'}\n",
       "1808  2024-04-02  {'v': '1.3572'}\n",
       "1809  2024-04-03  {'v': '1.3537'}\n",
       "1810  2024-04-04  {'v': '1.3504'}\n",
       "1811  2024-04-05  {'v': '1.3598'}\n",
       "\n",
       "[1812 rows x 2 columns]"
      ]
     },
     "execution_count": 14,
     "metadata": {},
     "output_type": "execute_result"
    }
   ],
   "source": [
    "valet_api['USD_to_CAD'].to_pandas()"
   ]
  },
  {
   "cell_type": "markdown",
   "metadata": {},
   "source": [
    "### Smart Add Endpoint"
   ]
  },
  {
   "cell_type": "code",
   "execution_count": 15,
   "metadata": {},
   "outputs": [],
   "source": [
    "from anydata.engine.models import OpenAI\n",
    "\n",
    "valet_api.set_lm(OpenAI('gpt-3.5-turbo'))"
   ]
  },
  {
   "cell_type": "code",
   "execution_count": 16,
   "metadata": {},
   "outputs": [
    {
     "data": {
      "text/html": [
       "<pre style='margin: 0px; padding: 0px; vertical-align: middle; padding-left: 8px; margin-left: -8px; border-radius: 0px; border-left: 1px solid rgba(127, 127, 127, 0.2); white-space: pre-wrap; font-family: ColfaxAI, Arial; font-size: 15px; line-height: 23px;'><div style='display: flex; border-bottom: 1px solid rgba(127, 127, 127, 0.2);  justify-content: center; align-items: center;'><div style='flex: 0 0 80px; opacity: 0.5;'>system</div><div style='flex-grow: 1; padding: 5px; padding-top: 10px; padding-bottom: 10px; margin-top: 0px; white-space: pre-wrap; margin-bottom: 0px;'>You only reply with a relative url that starts with &#x27;/&#x27;. If the endpoint contains path parameters, do not replace them with the parameter values, return the parameter name within curly braces. Return the relative url as described in the API documentation. You don&#x27;t include anything else in your reply, other than the relative url.\n",
       "</div></div><div style='display: flex; border-bottom: 1px solid rgba(127, 127, 127, 0.2);  justify-content: center; align-items: center;'><div style='flex: 0 0 80px; opacity: 0.5;'>user</div><div style='flex-grow: 1; padding: 5px; padding-top: 10px; padding-bottom: 10px; margin-top: 0px; white-space: pre-wrap; margin-bottom: 0px;'>Given the following OpenAPI specification, which endpoint should I use to return data for the prompt &#x27;Data for Canadian Dollars to Japanese Yen conversion from January 2020 onwards&#x27;?\n",
       "\n",
       "{&#x27;info&#x27;: {&#x27;title&#x27;: &#x27;Valet API&#x27;, &#x27;description&#x27;: &#x27;The Bank of Canada Valet Web Services offers programmatic access to global financial data.\\n\\nBy using the Valet API, you can retrieve financial data and information from the Bank of Canada — such as daily\\nexchange rates of the Canadian dollar against the European euro.\\n\\n**Important:** [See our terms of use](https://www.bankofcanada.ca/terms/)&#x27;}, &#x27;servers&#x27;: [{&#x27;url&#x27;: &#x27;https://www.bankofcanada.ca/valet&#x27;}], &#x27;paths&#x27;: {&#x27;/lists/{type}/{format}&#x27;: {&#x27;get&#x27;: {&#x27;tags&#x27;: [&#x27;Lists&#x27;], &#x27;summary&#x27;: &#x27;List of available series or group&#x27;, &#x27;description&#x27;: &#x27;The lists route provides a response containing the names of all available series or groups depending on the value of `type`&#x27;}}, &#x27;/series/{seriesName}/{format}&#x27;: {&#x27;get&#x27;: {&#x27;tags&#x27;: [&#x27;Series&#x27;], &#x27;summary&#x27;: &#x27;Contains the details associated with a series&#x27;, &#x27;description&#x27;: &#x27;**Important:** The series route requires a `seriesName` to return a response&#x27;}}, &#x27;/groups/{groupName}/{format}&#x27;: {&#x27;get&#x27;: {&#x27;tags&#x27;: [&#x27;Series Group&#x27;], &#x27;summary&#x27;: &#x27;Provides the details associated with a group by its {groupName}&#x27;, &#x27;description&#x27;: &#x27;Provides the details associated with a group by its name and all the series it contains&#x27;}}, &#x27;/observations/{seriesNames}/{format}&#x27;: {&#x27;get&#x27;: {&#x27;tags&#x27;: [&#x27;Series&#x27;], &#x27;summary&#x27;: &#x27;Returns observations filtered by a {seriesName}&#x27;, &#x27;description&#x27;: &#x27;**Important:** Observations by series requires at least one `seriesName` to return the requested observations\\n\\nThe `format` can be specified, but will default to JSON if not provided\\n\\n**Note:** `recent_[interval]` cannot be used at the same time as the `start_date` and `end_date` parameters\\n\\n**Note:** Date related query parameters can only be used with time series&#x27;}}, &#x27;/observations/group/{groupName}/{format}&#x27;: {&#x27;get&#x27;: {&#x27;tags&#x27;: [&#x27;Series Group&#x27;], &#x27;summary&#x27;: &#x27;Returns observations of a group of series, filtered by a group name&#x27;, &#x27;description&#x27;: &#x27;**Important:** Observations by group requires at least one `groupName` to return the requested observations\\n\\nThe `format` can be specified, but will default to JSON if not provided\\n\\n**Note:** `recent_[interval]` cannot be used at the same time as the `start_date` and `end_date` parameters\\n\\n**Note:** Date related query parameters can only be used with time series&#x27;}}, &#x27;/fx_rss&#x27;: {&#x27;get&#x27;: {&#x27;tags&#x27;: [&#x27;Foreign Exchange Rates in RSS&#x27;], &#x27;summary&#x27;: &#x27;Returns exchange rate observations&#x27;, &#x27;description&#x27;: &#x27;The route will return the most recent observation for all exchange rates&#x27;}}, &#x27;/fx_rss/{seriesNames}&#x27;: {&#x27;get&#x27;: {&#x27;tags&#x27;: [&#x27;Foreign Exchange Rates in RSS&#x27;], &#x27;summary&#x27;: &#x27;Returns exchange rate observations filtered by {seriesNames}&#x27;, &#x27;description&#x27;: &#x27;Foreign Exchange Rates in RSS offers a `seriesNames` parameter that can accept one series or multiple series\\nseparated by a comma&#x27;}}}}\n",
       "\n",
       "Choose one from the following endpoints:\n",
       "[&#x27;/lists/{type}/{format}&#x27;, &#x27;/series/{seriesName}/{format}&#x27;, &#x27;/groups/{groupName}/{format}&#x27;, &#x27;/observations/{seriesNames}/{format}&#x27;, &#x27;/observations/group/{groupName}/{format}&#x27;, &#x27;/fx_rss&#x27;, &#x27;/fx_rss/{seriesNames}&#x27;]\n",
       "\n",
       "If the endpoint contains path parameters, do not replace them with the parameter values, return the parameter name within curly braces.\n",
       "    </div></div><div style='display: flex; border-bottom: 1px solid rgba(127, 127, 127, 0.2);  justify-content: center; align-items: center;'><div style='flex: 0 0 80px; opacity: 0.5;'>assistant</div><div style='flex-grow: 1; padding: 5px; padding-top: 10px; padding-bottom: 10px; margin-top: 0px; white-space: pre-wrap; margin-bottom: 0px;'><span style='background-color: rgba(0.0, 165.0, 0, 0.15); border-radius: 3px;' title='1.0'>/o</span>bservations<span style='background-color: rgba(0.0, 165.0, 0, 0.15); border-radius: 3px;' title='1.0'>/{</span>seriesNames}/{format}</div></div><div style='display: flex; border-bottom: 1px solid rgba(127, 127, 127, 0.2);  justify-content: center; align-items: center;'><div style='flex: 0 0 80px; opacity: 0.5;'>system</div><div style='flex-grow: 1; padding: 5px; padding-top: 10px; padding-bottom: 10px; margin-top: 0px; white-space: pre-wrap; margin-bottom: 0px;'>You only reply with one of the following valid REST API operations &#x27;get&#x27;, &#x27;post&#x27;, &#x27;put&#x27;, &#x27;delete&#x27;, &#x27;head&#x27;, or &#x27;options&#x27;. You don&#x27;t include anything else in your reply, other than the REST API operation.\n",
       "</div></div><div style='display: flex; border-bottom: 1px solid rgba(127, 127, 127, 0.2);  justify-content: center; align-items: center;'><div style='flex: 0 0 80px; opacity: 0.5;'>user</div><div style='flex-grow: 1; padding: 5px; padding-top: 10px; padding-bottom: 10px; margin-top: 0px; white-space: pre-wrap; margin-bottom: 0px;'>Given the following OpenAPI specification, which REST API method should I use when calling the endpoint /observations/{seriesNames}/{format} to fulfill the prompt &#x27;Data for Canadian Dollars to Japanese Yen conversion from January 2020 onwards&#x27;?\n",
       "\n",
       "{&#x27;get&#x27;: {&#x27;tags&#x27;: [&#x27;Series&#x27;], &#x27;summary&#x27;: &#x27;Returns observations filtered by a {seriesName}&#x27;, &#x27;description&#x27;: &#x27;**Important:** Observations by series requires at least one `seriesName` to return the requested observations\\n\\nThe `format` can be specified, but will default to JSON if not provided\\n\\n**Note:** `recent_[interval]` cannot be used at the same time as the `start_date` and `end_date` parameters\\n\\n**Note:** Date related query parameters can only be used with time series&#x27;, &#x27;parameters&#x27;: [{&#x27;$ref&#x27;: {&#x27;name&#x27;: &#x27;seriesNames&#x27;, &#x27;in&#x27;: &#x27;path&#x27;, &#x27;description&#x27;: &#x27;Comma separated list of one or more `seriesNames` as `FX[currency1][currency2]`&#x27;, &#x27;required&#x27;: True, &#x27;schema&#x27;: {&#x27;type&#x27;: &#x27;string&#x27;, &#x27;pattern&#x27;: &#x27;^[\\\\w.,]{1,}$&#x27;, &#x27;example&#x27;: &#x27;FXUSDCAD,FXEURCAD&#x27;}}}, {&#x27;$ref&#x27;: {&#x27;name&#x27;: &#x27;format&#x27;, &#x27;in&#x27;: &#x27;path&#x27;, &#x27;description&#x27;: &#x27;Specify the format of the returned data&#x27;, &#x27;required&#x27;: True, &#x27;schema&#x27;: {&#x27;type&#x27;: &#x27;string&#x27;, &#x27;enum&#x27;: [&#x27;json&#x27;, &#x27;csv&#x27;, &#x27;xml&#x27;], &#x27;default&#x27;: &#x27;json&#x27;}}}, {&#x27;$ref&#x27;: {&#x27;name&#x27;: &#x27;start_date&#x27;, &#x27;in&#x27;: &#x27;query&#x27;, &#x27;description&#x27;: &#x27;Filters the observations returned so they are all on or after the date specified (YYYY-MM-DD)&#x27;, &#x27;schema&#x27;: {&#x27;type&#x27;: &#x27;string&#x27;, &#x27;example&#x27;: &#x27;2023-01-23&#x27;, &#x27;pattern&#x27;: &#x27;^\\\\d{4}\\\\-(0[1-9]|1[012])\\\\-(0[1-9]|[12][0-9]|3[01])$&#x27;}}}, {&#x27;$ref&#x27;: {&#x27;name&#x27;: &#x27;end_date&#x27;, &#x27;in&#x27;: &#x27;query&#x27;, &#x27;description&#x27;: &#x27;Filters the observations returned so they are all on or before the date specified (YYYY-MM-DD)&#x27;, &#x27;schema&#x27;: {&#x27;type&#x27;: &#x27;string&#x27;, &#x27;example&#x27;: &#x27;2023-07-19&#x27;, &#x27;pattern&#x27;: &#x27;^\\\\d{4}\\\\-(0[1-9]|1[012])\\\\-(0[1-9]|[12][0-9]|3[01])$&#x27;}}}, {&#x27;$ref&#x27;: {&#x27;name&#x27;: &#x27;recent&#x27;, &#x27;in&#x27;: &#x27;query&#x27;, &#x27;description&#x27;: &#x27;Returns the most recent X observations per series, where X is the amount you request&#x27;, &#x27;schema&#x27;: {&#x27;type&#x27;: &#x27;integer&#x27;, &#x27;minimum&#x27;: 1}}}, {&#x27;$ref&#x27;: {&#x27;name&#x27;: &#x27;recent_weeks&#x27;, &#x27;in&#x27;: &#x27;query&#x27;, &#x27;description&#x27;: &#x27;Returns the last X weeks observations for each series&#x27;, &#x27;schema&#x27;: {&#x27;type&#x27;: &#x27;integer&#x27;, &#x27;minimum&#x27;: 1}}}, {&#x27;$ref&#x27;: {&#x27;name&#x27;: &#x27;recent_months&#x27;, &#x27;in&#x27;: &#x27;query&#x27;, &#x27;description&#x27;: &#x27;Returns the last X months observations for each series&#x27;, &#x27;schema&#x27;: {&#x27;type&#x27;: &#x27;integer&#x27;, &#x27;minimum&#x27;: 1}}}, {&#x27;$ref&#x27;: {&#x27;name&#x27;: &#x27;recent_years&#x27;, &#x27;in&#x27;: &#x27;query&#x27;, &#x27;description&#x27;: &#x27;Returns the last X years observations for each series&#x27;, &#x27;schema&#x27;: {&#x27;type&#x27;: &#x27;integer&#x27;, &#x27;minimum&#x27;: 1}}}, {&#x27;$ref&#x27;: {&#x27;name&#x27;: &#x27;order_dir&#x27;, &#x27;in&#x27;: &#x27;query&#x27;, &#x27;description&#x27;: &#x27;Returns observations per series in ascending or descending order&#x27;, &#x27;schema&#x27;: {&#x27;type&#x27;: &#x27;string&#x27;, &#x27;enum&#x27;: [&#x27;asc&#x27;, &#x27;desc&#x27;]}}}], &#x27;responses&#x27;: {&#x27;200&#x27;: {&#x27;$ref&#x27;: &#x27;#/components/responses/ObservationSeriesResponse&#x27;}}}}\n",
       "    </div></div><div style='display: flex; border-bottom: 1px solid rgba(127, 127, 127, 0.2);  justify-content: center; align-items: center;'><div style='flex: 0 0 80px; opacity: 0.5;'>assistant</div><div style='flex-grow: 1; padding: 5px; padding-top: 10px; padding-bottom: 10px; margin-top: 0px; white-space: pre-wrap; margin-bottom: 0px;'>get</div></div><div style='display: flex; border-bottom: 1px solid rgba(127, 127, 127, 0.2);  justify-content: center; align-items: center;'><div style='flex: 0 0 80px; opacity: 0.5;'>system</div><div style='flex-grow: 1; padding: 5px; padding-top: 10px; padding-bottom: 10px; margin-top: 0px; white-space: pre-wrap; margin-bottom: 0px;'>You only reply with a json object with key value pairs. The keys are the parameter names and the values are the parameter values for a REST API call to an endpoint.\n",
       "</div></div><div style='display: flex; border-bottom: 1px solid rgba(127, 127, 127, 0.2);  justify-content: center; align-items: center;'><div style='flex: 0 0 80px; opacity: 0.5;'>user</div><div style='flex-grow: 1; padding: 5px; padding-top: 10px; padding-bottom: 10px; margin-top: 0px; white-space: pre-wrap; margin-bottom: 0px;'>Given the following OpenAPI specification, which parameters should I pass when calling the endpoint /observations/{seriesNames}/{format} to return all available data in json format for the prompt &#x27;Data for Canadian Dollars to Japanese Yen conversion from January 2020 onwards&#x27;?\n",
       "Return only required parameters and optional parameters needed to fulfill the prompt &#x27;Data for Canadian Dollars to Japanese Yen conversion from January 2020 onwards&#x27;.\n",
       "\n",
       "{&#x27;tags&#x27;: [&#x27;Series&#x27;], &#x27;summary&#x27;: &#x27;Returns observations filtered by a {seriesName}&#x27;, &#x27;description&#x27;: &#x27;**Important:** Observations by series requires at least one `seriesName` to return the requested observations\\n\\nThe `format` can be specified, but will default to JSON if not provided\\n\\n**Note:** `recent_[interval]` cannot be used at the same time as the `start_date` and `end_date` parameters\\n\\n**Note:** Date related query parameters can only be used with time series&#x27;, &#x27;parameters&#x27;: [{&#x27;$ref&#x27;: {&#x27;name&#x27;: &#x27;seriesNames&#x27;, &#x27;in&#x27;: &#x27;path&#x27;, &#x27;description&#x27;: &#x27;Comma separated list of one or more `seriesNames` as `FX[currency1][currency2]`&#x27;, &#x27;required&#x27;: True, &#x27;schema&#x27;: {&#x27;type&#x27;: &#x27;string&#x27;, &#x27;pattern&#x27;: &#x27;^[\\\\w.,]{1,}$&#x27;, &#x27;example&#x27;: &#x27;FXUSDCAD,FXEURCAD&#x27;}}}, {&#x27;$ref&#x27;: {&#x27;name&#x27;: &#x27;format&#x27;, &#x27;in&#x27;: &#x27;path&#x27;, &#x27;description&#x27;: &#x27;Specify the format of the returned data&#x27;, &#x27;required&#x27;: True, &#x27;schema&#x27;: {&#x27;type&#x27;: &#x27;string&#x27;, &#x27;enum&#x27;: [&#x27;json&#x27;, &#x27;csv&#x27;, &#x27;xml&#x27;], &#x27;default&#x27;: &#x27;json&#x27;}}}, {&#x27;$ref&#x27;: {&#x27;name&#x27;: &#x27;start_date&#x27;, &#x27;in&#x27;: &#x27;query&#x27;, &#x27;description&#x27;: &#x27;Filters the observations returned so they are all on or after the date specified (YYYY-MM-DD)&#x27;, &#x27;schema&#x27;: {&#x27;type&#x27;: &#x27;string&#x27;, &#x27;example&#x27;: &#x27;2023-01-23&#x27;, &#x27;pattern&#x27;: &#x27;^\\\\d{4}\\\\-(0[1-9]|1[012])\\\\-(0[1-9]|[12][0-9]|3[01])$&#x27;}}}, {&#x27;$ref&#x27;: {&#x27;name&#x27;: &#x27;end_date&#x27;, &#x27;in&#x27;: &#x27;query&#x27;, &#x27;description&#x27;: &#x27;Filters the observations returned so they are all on or before the date specified (YYYY-MM-DD)&#x27;, &#x27;schema&#x27;: {&#x27;type&#x27;: &#x27;string&#x27;, &#x27;example&#x27;: &#x27;2023-07-19&#x27;, &#x27;pattern&#x27;: &#x27;^\\\\d{4}\\\\-(0[1-9]|1[012])\\\\-(0[1-9]|[12][0-9]|3[01])$&#x27;}}}, {&#x27;$ref&#x27;: {&#x27;name&#x27;: &#x27;recent&#x27;, &#x27;in&#x27;: &#x27;query&#x27;, &#x27;description&#x27;: &#x27;Returns the most recent X observations per series, where X is the amount you request&#x27;, &#x27;schema&#x27;: {&#x27;type&#x27;: &#x27;integer&#x27;, &#x27;minimum&#x27;: 1}}}, {&#x27;$ref&#x27;: {&#x27;name&#x27;: &#x27;recent_weeks&#x27;, &#x27;in&#x27;: &#x27;query&#x27;, &#x27;description&#x27;: &#x27;Returns the last X weeks observations for each series&#x27;, &#x27;schema&#x27;: {&#x27;type&#x27;: &#x27;integer&#x27;, &#x27;minimum&#x27;: 1}}}, {&#x27;$ref&#x27;: {&#x27;name&#x27;: &#x27;recent_months&#x27;, &#x27;in&#x27;: &#x27;query&#x27;, &#x27;description&#x27;: &#x27;Returns the last X months observations for each series&#x27;, &#x27;schema&#x27;: {&#x27;type&#x27;: &#x27;integer&#x27;, &#x27;minimum&#x27;: 1}}}, {&#x27;$ref&#x27;: {&#x27;name&#x27;: &#x27;recent_years&#x27;, &#x27;in&#x27;: &#x27;query&#x27;, &#x27;description&#x27;: &#x27;Returns the last X years observations for each series&#x27;, &#x27;schema&#x27;: {&#x27;type&#x27;: &#x27;integer&#x27;, &#x27;minimum&#x27;: 1}}}, {&#x27;$ref&#x27;: {&#x27;name&#x27;: &#x27;order_dir&#x27;, &#x27;in&#x27;: &#x27;query&#x27;, &#x27;description&#x27;: &#x27;Returns observations per series in ascending or descending order&#x27;, &#x27;schema&#x27;: {&#x27;type&#x27;: &#x27;string&#x27;, &#x27;enum&#x27;: [&#x27;asc&#x27;, &#x27;desc&#x27;]}}}], &#x27;responses&#x27;: {&#x27;200&#x27;: {&#x27;$ref&#x27;: &#x27;#/components/responses/ObservationSeriesResponse&#x27;}}}\n",
       "\n",
       "If no parameter is needed to fulfill the prompt &#x27;Data for Canadian Dollars to Japanese Yen conversion from January 2020 onwards&#x27;, return an empty JSON object.\n",
       "    </div></div><div style='display: flex; border-bottom: 1px solid rgba(127, 127, 127, 0.2);  justify-content: center; align-items: center;'><div style='flex: 0 0 80px; opacity: 0.5;'>assistant</div><div style='flex-grow: 1; padding: 5px; padding-top: 10px; padding-bottom: 10px; margin-top: 0px; white-space: pre-wrap; margin-bottom: 0px;'><span style='background-color: rgba(0.0, 165.0, 0, 0.15); border-radius: 3px;' title='1.0'>{\n",
       "</span><span style='background-color: rgba(0.0, 165.0, 0, 0.15); border-radius: 3px;' title='1.0'>  </span><span style='background-color: rgba(0.0, 165.0, 0, 0.15); border-radius: 3px;' title='1.0'>&quot;s</span><span style='background-color: rgba(0.0, 165.0, 0, 0.15); border-radius: 3px;' title='1.0'>eries</span><span style='background-color: rgba(0.0, 165.0, 0, 0.15); border-radius: 3px;' title='1.0'>Names</span><span style='background-color: rgba(0.0, 165.0, 0, 0.15); border-radius: 3px;' title='1.0'>&quot;:</span><span style='background-color: rgba(0.0, 165.0, 0, 0.15); border-radius: 3px;' title='1.0'> &quot;</span><span style='background-color: rgba(0.0, 165.0, 0, 0.15); border-radius: 3px;' title='1.0'>FX</span><span style='background-color: rgba(0.0, 165.0, 0, 0.15); border-radius: 3px;' title='1.0'>CAD</span><span style='background-color: rgba(0.0, 165.0, 0, 0.15); border-radius: 3px;' title='1.0'>JP</span><span style='background-color: rgba(0.0, 165.0, 0, 0.15); border-radius: 3px;' title='1.0'>Y</span><span style='background-color: rgba(0.0, 165.0, 0, 0.15); border-radius: 3px;' title='1.0'>&quot;,\n",
       "</span><span style='background-color: rgba(0.0, 165.0, 0, 0.15); border-radius: 3px;' title='1.0'>  </span><span style='background-color: rgba(0.0, 165.0, 0, 0.15); border-radius: 3px;' title='1.0'>&quot;f</span><span style='background-color: rgba(0.0, 165.0, 0, 0.15); border-radius: 3px;' title='1.0'>orm</span><span style='background-color: rgba(0.0, 165.0, 0, 0.15); border-radius: 3px;' title='1.0'>at</span><span style='background-color: rgba(0.0, 165.0, 0, 0.15); border-radius: 3px;' title='1.0'>&quot;:</span><span style='background-color: rgba(0.0, 165.0, 0, 0.15); border-radius: 3px;' title='1.0'> &quot;</span><span style='background-color: rgba(0.0, 165.0, 0, 0.15); border-radius: 3px;' title='1.0'>json</span><span style='background-color: rgba(0.0, 165.0, 0, 0.15); border-radius: 3px;' title='1.0'>&quot;,\n",
       "</span><span style='background-color: rgba(0.0, 165.0, 0, 0.15); border-radius: 3px;' title='1.0'>  </span><span style='background-color: rgba(0.0, 165.0, 0, 0.15); border-radius: 3px;' title='1.0'>&quot;s</span><span style='background-color: rgba(0.0, 165.0, 0, 0.15); border-radius: 3px;' title='1.0'>tar</span><span style='background-color: rgba(0.0, 165.0, 0, 0.15); border-radius: 3px;' title='1.0'>t</span><span style='background-color: rgba(0.0, 165.0, 0, 0.15); border-radius: 3px;' title='1.0'>_date</span><span style='background-color: rgba(0.0, 165.0, 0, 0.15); border-radius: 3px;' title='1.0'>&quot;:</span><span style='background-color: rgba(0.0, 165.0, 0, 0.15); border-radius: 3px;' title='1.0'> &quot;</span><span style='background-color: rgba(0.0, 165.0, 0, 0.15); border-radius: 3px;' title='1.0'>202</span><span style='background-color: rgba(0.0, 165.0, 0, 0.15); border-radius: 3px;' title='1.0'>0</span><span style='background-color: rgba(0.0, 165.0, 0, 0.15); border-radius: 3px;' title='1.0'>-</span><span style='background-color: rgba(0.0, 165.0, 0, 0.15); border-radius: 3px;' title='1.0'>01</span><span style='background-color: rgba(0.0, 165.0, 0, 0.15); border-radius: 3px;' title='1.0'>-</span><span style='background-color: rgba(0.0, 165.0, 0, 0.15); border-radius: 3px;' title='1.0'>01</span><span style='background-color: rgba(0.0, 165.0, 0, 0.15); border-radius: 3px;' title='1.0'>&quot;\n",
       "</span><span style='background-color: rgba(0.0, 165.0, 0, 0.15); border-radius: 3px;' title='1.0'>}</span></div></div></pre>"
      ],
      "text/plain": [
       "<IPython.core.display.HTML object>"
      ]
     },
     "metadata": {},
     "output_type": "display_data"
    },
    {
     "name": "stdout",
     "output_type": "stream",
     "text": [
      "Sending test request to the endpoint...\n",
      "Test request to the endpoint '/observations/{seriesNames}/{format}' returned status code 200.\n",
      "Added endpoint '/observations/{seriesNames}/{format}' with method 'get' at alias 'CAD_to_JPY' to DataAPI.\n"
     ]
    }
   ],
   "source": [
    "valet_api.smart_add_endpoint('Data for Canadian Dollars to Japanese Yen conversion from January 2020 onwards', alias='CAD_to_JPY', echo=True)"
   ]
  },
  {
   "cell_type": "code",
   "execution_count": 17,
   "metadata": {},
   "outputs": [
    {
     "data": {
      "text/plain": [
       "[('/fx_rss', Endpoint(method=\"get\", endpoint=\"/fx_rss\")),\n",
       " ('/fx_rss/{seriesNames}',\n",
       "  Endpoint(method=\"get\", endpoint=\"/fx_rss/{seriesNames}\", path_params={'seriesNames': None})),\n",
       " ('/groups/{groupName}/{format}',\n",
       "  Endpoint(method=\"get\", endpoint=\"/groups/{groupName}/{format}\", path_params={'groupName': None, 'format': None})),\n",
       " ('/lists/{type}/{format}',\n",
       "  Endpoint(method=\"get\", endpoint=\"/lists/{type}/{format}\", path_params={'type': None, 'format': None})),\n",
       " ('/observations/group/{groupName}/{format}',\n",
       "  Endpoint(method=\"get\", endpoint=\"/observations/group/{groupName}/{format}\", path_params={'groupName': None, 'format': None})),\n",
       " ('/observations/{seriesNames}/{format}',\n",
       "  Endpoint(method=\"get\", endpoint=\"/observations/{seriesNames}/{format}\", path_params={'seriesNames': 'FXUSDCAD', 'format': 'json'})),\n",
       " ('/series/{seriesName}/{format}',\n",
       "  Endpoint(method=\"get\", endpoint=\"/series/{seriesName}/{format}\", path_params={'seriesName': None, 'format': None})),\n",
       " ('CAD_to_JPY',\n",
       "  Endpoint(method=\"get\", endpoint=\"/observations/{seriesNames}/{format}\", params={'start_date': '2020-01-01'}, path_params={'seriesNames': 'FXCADJPY', 'format': 'json'})),\n",
       " ('USD_to_CAD',\n",
       "  Endpoint(method=\"GET\", endpoint=\"/observations/{seriesNames}/{format}\", path_params={'seriesNames': 'FXUSDCAD', 'format': 'json'}))]"
      ]
     },
     "execution_count": 17,
     "metadata": {},
     "output_type": "execute_result"
    }
   ],
   "source": [
    "valet_api.endpoints()"
   ]
  },
  {
   "cell_type": "code",
   "execution_count": 18,
   "metadata": {},
   "outputs": [
    {
     "data": {
      "text/html": [
       "<div>\n",
       "<style scoped>\n",
       "    .dataframe tbody tr th:only-of-type {\n",
       "        vertical-align: middle;\n",
       "    }\n",
       "\n",
       "    .dataframe tbody tr th {\n",
       "        vertical-align: top;\n",
       "    }\n",
       "\n",
       "    .dataframe thead th {\n",
       "        text-align: right;\n",
       "    }\n",
       "</style>\n",
       "<table border=\"1\" class=\"dataframe\">\n",
       "  <thead>\n",
       "    <tr style=\"text-align: right;\">\n",
       "      <th></th>\n",
       "      <th>d</th>\n",
       "      <th>FXCADJPY</th>\n",
       "    </tr>\n",
       "  </thead>\n",
       "  <tbody>\n",
       "    <tr>\n",
       "      <th>0</th>\n",
       "      <td>2020-01-02</td>\n",
       "      <td>{'v': '83.5422'}</td>\n",
       "    </tr>\n",
       "    <tr>\n",
       "      <th>1</th>\n",
       "      <td>2020-01-03</td>\n",
       "      <td>{'v': '83.1947'}</td>\n",
       "    </tr>\n",
       "    <tr>\n",
       "      <th>2</th>\n",
       "      <td>2020-01-06</td>\n",
       "      <td>{'v': '83.4725'}</td>\n",
       "    </tr>\n",
       "    <tr>\n",
       "      <th>3</th>\n",
       "      <td>2020-01-07</td>\n",
       "      <td>{'v': '83.4028'}</td>\n",
       "    </tr>\n",
       "    <tr>\n",
       "      <th>4</th>\n",
       "      <td>2020-01-08</td>\n",
       "      <td>{'v': '83.6120'}</td>\n",
       "    </tr>\n",
       "    <tr>\n",
       "      <th>...</th>\n",
       "      <td>...</td>\n",
       "      <td>...</td>\n",
       "    </tr>\n",
       "    <tr>\n",
       "      <th>1058</th>\n",
       "      <td>2024-04-01</td>\n",
       "      <td>{'v': '111.7318'}</td>\n",
       "    </tr>\n",
       "    <tr>\n",
       "      <th>1059</th>\n",
       "      <td>2024-04-02</td>\n",
       "      <td>{'v': '111.7318'}</td>\n",
       "    </tr>\n",
       "    <tr>\n",
       "      <th>1060</th>\n",
       "      <td>2024-04-03</td>\n",
       "      <td>{'v': '112.1076'}</td>\n",
       "    </tr>\n",
       "    <tr>\n",
       "      <th>1061</th>\n",
       "      <td>2024-04-04</td>\n",
       "      <td>{'v': '112.2334'}</td>\n",
       "    </tr>\n",
       "    <tr>\n",
       "      <th>1062</th>\n",
       "      <td>2024-04-05</td>\n",
       "      <td>{'v': '111.4827'}</td>\n",
       "    </tr>\n",
       "  </tbody>\n",
       "</table>\n",
       "<p>1063 rows × 2 columns</p>\n",
       "</div>"
      ],
      "text/plain": [
       "               d           FXCADJPY\n",
       "0     2020-01-02   {'v': '83.5422'}\n",
       "1     2020-01-03   {'v': '83.1947'}\n",
       "2     2020-01-06   {'v': '83.4725'}\n",
       "3     2020-01-07   {'v': '83.4028'}\n",
       "4     2020-01-08   {'v': '83.6120'}\n",
       "...          ...                ...\n",
       "1058  2024-04-01  {'v': '111.7318'}\n",
       "1059  2024-04-02  {'v': '111.7318'}\n",
       "1060  2024-04-03  {'v': '112.1076'}\n",
       "1061  2024-04-04  {'v': '112.2334'}\n",
       "1062  2024-04-05  {'v': '111.4827'}\n",
       "\n",
       "[1063 rows x 2 columns]"
      ]
     },
     "execution_count": 18,
     "metadata": {},
     "output_type": "execute_result"
    }
   ],
   "source": [
    "valet_api['CAD_to_JPY'].to_pandas()"
   ]
  }
 ],
 "metadata": {
  "kernelspec": {
   "display_name": ".venv",
   "language": "python",
   "name": "python3"
  },
  "language_info": {
   "codemirror_mode": {
    "name": "ipython",
    "version": 3
   },
   "file_extension": ".py",
   "mimetype": "text/x-python",
   "name": "python",
   "nbconvert_exporter": "python",
   "pygments_lexer": "ipython3",
   "version": "3.12.1"
  }
 },
 "nbformat": 4,
 "nbformat_minor": 2
}
